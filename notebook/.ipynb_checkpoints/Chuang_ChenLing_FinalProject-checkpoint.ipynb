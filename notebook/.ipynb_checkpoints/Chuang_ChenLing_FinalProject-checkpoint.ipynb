{
 "cells": [
  {
   "cell_type": "markdown",
   "id": "6ecfb74c",
   "metadata": {},
   "source": [
    "# Final Project: Transfer Learning for Image Classification\n",
    "Name: Chen Ling Chuang <br>\n",
    "Github Username: dana-Chuang <br>\n",
    "USC ID: 8432390527 <br>\n",
    "### Package Import"
   ]
  },
  {
   "cell_type": "code",
   "execution_count": 1,
   "id": "39007bbf",
   "metadata": {},
   "outputs": [],
   "source": [
    "#!pip install tensorflow\n",
    "#!pip install opencv-python"
   ]
  },
  {
   "cell_type": "code",
   "execution_count": 15,
   "id": "9361825a",
   "metadata": {},
   "outputs": [],
   "source": [
    "import os\n",
    "import os.path as op\n",
    "import numpy as np\n",
    "import matplotlib.pyplot as plt\n",
    "from sklearn.preprocessing import LabelEncoder\n",
    "import cv2\n",
    "from collections import Counter\n",
    "\n",
    "import tensorflow as tf\n",
    "from tensorflow.keras.preprocessing.image import ImageDataGenerator, img_to_array, load_img\n",
    "from tensorflow.keras.utils import to_categorical\n",
    "from tensorflow.keras import layers, models, regularizers\n",
    "from tensorflow.keras.applications import ResNet50, ResNet101, EfficientNetB0, VGG16\n",
    "from tensorflow.keras.applications.vgg16 import preprocess_input\n",
    "from tensorflow.keras.callbacks import EarlyStopping\n",
    "from tensorflow.keras.layers import Dense, Flatten, GlobalAveragePooling2D, BatchNormalization, Dropout\n",
    "from sklearn.metrics import precision_score, recall_score, f1_score, roc_auc_score"
   ]
  },
  {
   "cell_type": "markdown",
   "id": "ef5c8950",
   "metadata": {},
   "source": [
    "It is highly recommended that you complete this project using Keras and Python.\n",
    "## (a) In this problem, we are trying to build a classifier that distinguishes images of six scenes.\n",
    "## (b) Data Exploration and Pre-processing\n",
    "#### i. Images in each class are given in separate folders in the training and test sets. You can encode your classes using one-hot encoding."
   ]
  },
  {
   "cell_type": "code",
   "execution_count": 16,
   "id": "357e7eb8",
   "metadata": {},
   "outputs": [
    {
     "name": "stdout",
     "output_type": "stream",
     "text": [
      "['forest', 'buildings', 'glacier', 'street', 'mountain', 'sea']\n",
      "forest : [0. 1. 0. 0. 0. 0.]\n",
      "buildings : [1. 0. 0. 0. 0. 0.]\n",
      "glacier : [0. 0. 1. 0. 0. 0.]\n",
      "street : [0. 0. 0. 0. 0. 1.]\n",
      "mountain : [0. 0. 0. 1. 0. 0.]\n",
      "sea : [0. 0. 0. 0. 1. 0.]\n"
     ]
    }
   ],
   "source": [
    "data_path_train = '../data/seg_train' # Path to the dataset\n",
    "data_path_test = '../data/seg_test' # Path to the dataset\n",
    "\n",
    "classes = os.listdir(data_path_train)\n",
    "print(classes) # List all class folders\n",
    "\n",
    "label_encoder = LabelEncoder()\n",
    "numeric_labels = label_encoder.fit_transform(classes)\n",
    "one_hot_labels = to_categorical(numeric_labels) # Convert to one-hot encoding\n",
    "\n",
    "for i, class_name in enumerate(classes):\n",
    "    print(f'{class_name} : {one_hot_labels[i]}')"
   ]
  },
  {
   "cell_type": "markdown",
   "id": "ee7aa7f4",
   "metadata": {},
   "source": [
    "#### ii. In case all the images do not have the same size, zero-pad or resize the images in your dataset. This can be done using various tools, including OpenCV."
   ]
  },
  {
   "cell_type": "code",
   "execution_count": 17,
   "id": "91f00110",
   "metadata": {},
   "outputs": [],
   "source": [
    "# train\n",
    "# Create a list to store images and labels\n",
    "train_images = []\n",
    "train_labels = []\n",
    "target_width, target_height = 224, 224 #target image size\n",
    "\n",
    "# Load images and labels\n",
    "for index, class_name in enumerate(classes):\n",
    "    class_path = os.path.join(data_path_train, class_name)\n",
    "    for img_name in os.listdir(class_path):\n",
    "        if not img_name.endswith('.jpg'): # Skip non-image files\n",
    "            print(f\"Skipped non-image file: {img_name}\")\n",
    "            continue\n",
    "            \n",
    "        image = cv2.imread(os.path.join(class_path, img_name))\n",
    "        resized_image = cv2.resize(image, (target_width, target_height), interpolation=cv2.INTER_AREA)\n",
    "        img_array = img_to_array(resized_image)\n",
    "         \n",
    "        train_images.append(img_array)\n",
    "        train_labels.append(one_hot_labels[index]) # Append corresponding one-hot label"
   ]
  },
  {
   "cell_type": "code",
   "execution_count": 18,
   "id": "87951f59",
   "metadata": {},
   "outputs": [
    {
     "name": "stdout",
     "output_type": "stream",
     "text": [
      "Train Images shape: (14034, 224, 224, 3)\n",
      "Train Labels shape: (14034, 6)\n"
     ]
    }
   ],
   "source": [
    "# Convert lists to numpy arrays\n",
    "train_images = np.array(train_images, dtype='float32')\n",
    "train_labels = np.array(train_labels)\n",
    "\n",
    "# Check the shapes of the image and label arrays\n",
    "print(f\"Train Images shape: {train_images.shape}\")\n",
    "print(f\"Train Labels shape: {train_labels.shape}\")"
   ]
  },
  {
   "cell_type": "code",
   "execution_count": 19,
   "id": "f76b80d0",
   "metadata": {},
   "outputs": [],
   "source": [
    "# test\n",
    "test_images = []\n",
    "test_labels = []\n",
    "\n",
    "for index, class_name in enumerate(classes):\n",
    "    class_path = os.path.join(data_path_test, class_name)\n",
    "    for img_name in os.listdir(class_path):\n",
    "        if not img_name.endswith('.jpg'): # Skip non-image files\n",
    "            print(f\"Skipped non-image file: {img_name}\")\n",
    "            continue\n",
    "            \n",
    "        image = cv2.imread(os.path.join(class_path, img_name))\n",
    "        resized_image = cv2.resize(image, (target_width, target_height), interpolation=cv2.INTER_AREA)\n",
    "        img_array = img_to_array(resized_image)\n",
    "         \n",
    "        test_images.append(img_array)\n",
    "        test_labels.append(one_hot_labels[index]) # Append corresponding one-hot label"
   ]
  },
  {
   "cell_type": "code",
   "execution_count": 20,
   "id": "93ca318f",
   "metadata": {},
   "outputs": [
    {
     "name": "stdout",
     "output_type": "stream",
     "text": [
      "Test Images shape: (3000, 224, 224, 3)\n",
      "Test Labels shape: (3000, 6)\n"
     ]
    }
   ],
   "source": [
    "# Convert lists to numpy arrays\n",
    "test_images = np.array(test_images, dtype='float32')\n",
    "test_labels = np.array(test_labels)\n",
    "\n",
    "# Check the shapes of the image and label arrays\n",
    "print(f\"Test Images shape: {test_images.shape}\")\n",
    "print(f\"Test Labels shape: {test_labels.shape}\")"
   ]
  },
  {
   "cell_type": "markdown",
   "id": "6df91632",
   "metadata": {},
   "source": [
    "## (c) Transfer Learning\n",
    "In this project, you will use pre-trained models ResNet50, ResNet100, EfficientNetB0, and VGG16. For those pre-trained networks, you will only train the last fully connected layer, and will freeze all layers before them (i.e. we do not change their parameters during training) and use the outputs of the penultimate layer in the original pre-trained model as the features extracted from each image. <br>\n",
    "To perform empirical regularization, crop, randomly zoom, rotate, flip, contrast, and translate images in your training set for image augmentation. You can use various tools to do this, including OpenCV. <br>\n",
    "Use ReLU activation functions in the last layer and a softmax layer, along with 2 regularization, batch normalization 4, and a dropout rate of 20% as well as ADAM optimizer. Use multinomial cross entropy loss. You can try any batch size, but a batch size of 5 seems reasonable. <br>\n",
    "Train the networks for at least 50 epochs (preferably 100 epochs) and perform early stopping using the validation set. Use a randomly selected subset of 20% of each class as the validation set. Keep the network parameters that have the lowest validation error. Plot the training and validation errors vs. epochs. <br>\n",
    "Report training, validation, and test Precision, Recall, AUC, and F1 score for those models. Is there a model that clearly outperforms others? Remember that this is a multi-class classification problem."
   ]
  },
  {
   "cell_type": "code",
   "execution_count": 21,
   "id": "cbcabeb2",
   "metadata": {},
   "outputs": [],
   "source": [
    "# To store results\n",
    "results = {}"
   ]
  },
  {
   "cell_type": "code",
   "execution_count": 28,
   "id": "3867b108",
   "metadata": {},
   "outputs": [],
   "source": [
    "## Data augmentation\n",
    "datagen = ImageDataGenerator(\n",
    "    rotation_range=30,              # Increase rotation range for more variety\n",
    "    width_shift_range=0.3,          # Increase shift range\n",
    "    height_shift_range=0.3,\n",
    "    shear_range=0.2,                # Add shear augmentation\n",
    "    zoom_range=0.2,                 # Add zoom augmentation\n",
    "    horizontal_flip=True,\n",
    "    brightness_range=[0.8, 1.2],    # Vary brightness for better generalization\n",
    "    validation_split=0.2\n",
    "    )\n",
    "\n",
    "datagen.fit(test_images)\n",
    "train_ds = datagen.flow(train_images, train_labels, batch_size=5, subset='training')\n",
    "val_ds = datagen.flow(train_images, train_labels, batch_size=5, subset='validation')"
   ]
  },
  {
   "cell_type": "code",
   "execution_count": 29,
   "id": "d11a2872",
   "metadata": {},
   "outputs": [],
   "source": [
    "# Define a function to create and compile a model\n",
    "def create_model(base_model):\n",
    "    # Freeze pre-trained layers\n",
    "    for layer in base_model.layers:\n",
    "        layer.trainable = False\n",
    "\n",
    "    # Build custom layers on top\n",
    "    model = models.Sequential([\n",
    "        base_model,\n",
    "        layers.GlobalAveragePooling2D(),\n",
    "        layers.Dense(128, activation='relu', kernel_regularizer=tf.keras.regularizers.l2(0.01)),\n",
    "        layers.BatchNormalization(),\n",
    "        layers.Dropout(0.2),  # Dropout rate 20%\n",
    "        layers.Dense(6, activation='softmax')  # 6 classes for multi-class classification\n",
    "    ])\n",
    "    model.compile(optimizer=tf.keras.optimizers.Adam(learning_rate=0.001),\n",
    "                  loss='categorical_crossentropy',  # Multinomial cross-entropy\n",
    "                  metrics=['accuracy'])\n",
    "    return model"
   ]
  },
  {
   "cell_type": "markdown",
   "id": "6ecc6bb3",
   "metadata": {},
   "source": [
    "#### ResNet50"
   ]
  },
  {
   "cell_type": "code",
   "execution_count": 30,
   "id": "3fcbefe7",
   "metadata": {
    "scrolled": true
   },
   "outputs": [
    {
     "name": "stdout",
     "output_type": "stream",
     "text": [
      "Epoch 1/100\n",
      "\u001b[1m2246/2246\u001b[0m \u001b[32m━━━━━━━━━━━━━━━━━━━━\u001b[0m\u001b[37m\u001b[0m \u001b[1m399s\u001b[0m 177ms/step - accuracy: 0.7234 - loss: 1.7030 - val_accuracy: 0.1828 - val_loss: 5.2187\n",
      "Epoch 2/100\n",
      "\u001b[1m2246/2246\u001b[0m \u001b[32m━━━━━━━━━━━━━━━━━━━━\u001b[0m\u001b[37m\u001b[0m \u001b[1m393s\u001b[0m 175ms/step - accuracy: 0.7863 - loss: 0.9030 - val_accuracy: 0.1497 - val_loss: 6.0611\n",
      "Epoch 3/100\n",
      "\u001b[1m2246/2246\u001b[0m \u001b[32m━━━━━━━━━━━━━━━━━━━━\u001b[0m\u001b[37m\u001b[0m \u001b[1m395s\u001b[0m 176ms/step - accuracy: 0.7788 - loss: 0.8592 - val_accuracy: 0.1828 - val_loss: 11.8614\n",
      "Epoch 4/100\n",
      "\u001b[1m2246/2246\u001b[0m \u001b[32m━━━━━━━━━━━━━━━━━━━━\u001b[0m\u001b[37m\u001b[0m \u001b[1m400s\u001b[0m 178ms/step - accuracy: 0.7776 - loss: 0.8693 - val_accuracy: 0.1639 - val_loss: 4.8247\n",
      "Epoch 5/100\n",
      "\u001b[1m2246/2246\u001b[0m \u001b[32m━━━━━━━━━━━━━━━━━━━━\u001b[0m\u001b[37m\u001b[0m \u001b[1m398s\u001b[0m 177ms/step - accuracy: 0.7660 - loss: 0.8553 - val_accuracy: 0.1404 - val_loss: 8.9424\n",
      "Epoch 6/100\n",
      "\u001b[1m2246/2246\u001b[0m \u001b[32m━━━━━━━━━━━━━━━━━━━━\u001b[0m\u001b[37m\u001b[0m \u001b[1m397s\u001b[0m 177ms/step - accuracy: 0.7749 - loss: 0.8333 - val_accuracy: 0.1700 - val_loss: 9.0612\n",
      "Epoch 7/100\n",
      "\u001b[1m2246/2246\u001b[0m \u001b[32m━━━━━━━━━━━━━━━━━━━━\u001b[0m\u001b[37m\u001b[0m \u001b[1m398s\u001b[0m 177ms/step - accuracy: 0.7787 - loss: 0.7922 - val_accuracy: 0.1372 - val_loss: 10.4448\n",
      "Epoch 8/100\n",
      "\u001b[1m2246/2246\u001b[0m \u001b[32m━━━━━━━━━━━━━━━━━━━━\u001b[0m\u001b[37m\u001b[0m \u001b[1m393s\u001b[0m 175ms/step - accuracy: 0.7720 - loss: 0.8425 - val_accuracy: 0.1646 - val_loss: 10.8722\n",
      "Epoch 9/100\n",
      "\u001b[1m2246/2246\u001b[0m \u001b[32m━━━━━━━━━━━━━━━━━━━━\u001b[0m\u001b[37m\u001b[0m \u001b[1m391s\u001b[0m 174ms/step - accuracy: 0.7662 - loss: 0.8348 - val_accuracy: 0.1383 - val_loss: 10.4331\n",
      "Epoch 10/100\n",
      "\u001b[1m2246/2246\u001b[0m \u001b[32m━━━━━━━━━━━━━━━━━━━━\u001b[0m\u001b[37m\u001b[0m \u001b[1m393s\u001b[0m 175ms/step - accuracy: 0.7563 - loss: 0.8451 - val_accuracy: 0.1657 - val_loss: 10.7999\n",
      "Epoch 11/100\n",
      "\u001b[1m2246/2246\u001b[0m \u001b[32m━━━━━━━━━━━━━━━━━━━━\u001b[0m\u001b[37m\u001b[0m \u001b[1m392s\u001b[0m 174ms/step - accuracy: 0.7666 - loss: 0.8371 - val_accuracy: 0.1803 - val_loss: 11.5143\n",
      "Epoch 12/100\n",
      "\u001b[1m2246/2246\u001b[0m \u001b[32m━━━━━━━━━━━━━━━━━━━━\u001b[0m\u001b[37m\u001b[0m \u001b[1m399s\u001b[0m 177ms/step - accuracy: 0.7673 - loss: 0.8220 - val_accuracy: 0.1721 - val_loss: 13.3148\n",
      "Epoch 13/100\n",
      "\u001b[1m2246/2246\u001b[0m \u001b[32m━━━━━━━━━━━━━━━━━━━━\u001b[0m\u001b[37m\u001b[0m \u001b[1m407s\u001b[0m 181ms/step - accuracy: 0.7741 - loss: 0.7991 - val_accuracy: 0.1768 - val_loss: 12.1579\n",
      "Epoch 14/100\n",
      "\u001b[1m2246/2246\u001b[0m \u001b[32m━━━━━━━━━━━━━━━━━━━━\u001b[0m\u001b[37m\u001b[0m \u001b[1m410s\u001b[0m 183ms/step - accuracy: 0.7719 - loss: 0.8013 - val_accuracy: 0.1422 - val_loss: 12.2326\n"
     ]
    }
   ],
   "source": [
    "base_ResNet50 = ResNet50(weights='imagenet', include_top=False, input_shape=(224, 224, 3))\n",
    "model_ResNet50 = create_model(base_ResNet50)\n",
    "early_stopping = EarlyStopping(monitor='val_loss', patience=10, restore_best_weights=True)\n",
    "history_ResNet50 = model_ResNet50.fit(train_ds, \n",
    "                                      epochs=100, \n",
    "                                      validation_data=val_ds, \n",
    "                                      callbacks=[early_stopping])"
   ]
  },
  {
   "cell_type": "code",
   "execution_count": 31,
   "id": "70a4d652",
   "metadata": {},
   "outputs": [
    {
     "data": {
      "image/png": "[encoded data removed]",
      "text/plain": [
       "<Figure size 640x480 with 1 Axes>"
      ]
     },
     "metadata": {},
     "output_type": "display_data"
    }
   ],
   "source": [
    "# Plot training and validation loss\n",
    "plt.plot(history_ResNet50.history['loss'], label='Training Loss')\n",
    "plt.plot(history_ResNet50.history['val_loss'], label='Validation Loss')\n",
    "plt.title('Training and Validation Loss Over Epochs (ResNet50)')\n",
    "plt.xlabel('Epoch')\n",
    "plt.ylabel('Loss')\n",
    "plt.legend()\n",
    "plt.show()"
   ]
  },
  {
   "cell_type": "code",
   "execution_count": 32,
   "id": "6c8e9249",
   "metadata": {},
   "outputs": [
    {
     "name": "stdout",
     "output_type": "stream",
     "text": [
      "\u001b[1m94/94\u001b[0m \u001b[32m━━━━━━━━━━━━━━━━━━━━\u001b[0m\u001b[37m\u001b[0m \u001b[1m65s\u001b[0m 677ms/step\n"
     ]
    },
    {
     "name": "stderr",
     "output_type": "stream",
     "text": [
      "/opt/anaconda3/lib/python3.12/site-packages/sklearn/metrics/_classification.py:1509: UndefinedMetricWarning: Precision is ill-defined and being set to 0.0 in labels with no predicted samples. Use `zero_division` parameter to control this behavior.\n",
      "  _warn_prf(average, modifier, f\"{metric.capitalize()} is\", len(result))\n"
     ]
    },
    {
     "data": {
      "text/plain": [
       "{'Precision': 0.6652715935457639,\n",
       " 'Recall': 0.7365104584328731,\n",
       " 'F1 Score': 0.6891815824030733,\n",
       " 'AUC': 0.963720038757628}"
      ]
     },
     "execution_count": 32,
     "metadata": {},
     "output_type": "execute_result"
    }
   ],
   "source": [
    "# Evaluate on test data\n",
    "test_predictions = model_ResNet50.predict(test_images)\n",
    "test_labels_classes = np.argmax(test_labels, axis=1)\n",
    "test_predictions_classes = np.argmax(test_predictions, axis=1)\n",
    "\n",
    "precision = precision_score(test_labels_classes, test_predictions_classes, average='macro')\n",
    "recall = recall_score(test_labels_classes, test_predictions_classes, average='macro')\n",
    "f1 = f1_score(test_labels_classes, test_predictions_classes, average='macro')\n",
    "auc = roc_auc_score(test_labels, test_predictions, multi_class='ovr')\n",
    "\n",
    "results['ResNet50'] = {\n",
    "    \"Precision\": precision,\n",
    "    \"Recall\": recall,\n",
    "    \"F1 Score\": f1,\n",
    "    \"AUC\": auc\n",
    "}\n",
    "results['ResNet50']"
   ]
  },
  {
   "cell_type": "markdown",
   "id": "3a1c998a",
   "metadata": {},
   "source": [
    "#### ResNet100"
   ]
  },
  {
   "cell_type": "code",
   "execution_count": 33,
   "id": "e9cb92b6",
   "metadata": {},
   "outputs": [
    {
     "name": "stdout",
     "output_type": "stream",
     "text": [
      "Epoch 1/100\n",
      "\u001b[1m2246/2246\u001b[0m \u001b[32m━━━━━━━━━━━━━━━━━━━━\u001b[0m\u001b[37m\u001b[0m \u001b[1m751s\u001b[0m 332ms/step - accuracy: 0.7287 - loss: 1.8287 - val_accuracy: 0.1579 - val_loss: 8.4134\n",
      "Epoch 2/100\n",
      "\u001b[1m2246/2246\u001b[0m \u001b[32m━━━━━━━━━━━━━━━━━━━━\u001b[0m\u001b[37m\u001b[0m \u001b[1m736s\u001b[0m 328ms/step - accuracy: 0.7895 - loss: 0.8987 - val_accuracy: 0.1415 - val_loss: 7.6783\n",
      "Epoch 3/100\n",
      "\u001b[1m2246/2246\u001b[0m \u001b[32m━━━━━━━━━━━━━━━━━━━━\u001b[0m\u001b[37m\u001b[0m \u001b[1m757s\u001b[0m 337ms/step - accuracy: 0.7846 - loss: 0.8525 - val_accuracy: 0.1536 - val_loss: 7.6381\n",
      "Epoch 4/100\n",
      "\u001b[1m2246/2246\u001b[0m \u001b[32m━━━━━━━━━━━━━━━━━━━━\u001b[0m\u001b[37m\u001b[0m \u001b[1m737s\u001b[0m 328ms/step - accuracy: 0.7797 - loss: 0.8380 - val_accuracy: 0.1768 - val_loss: 9.6284\n",
      "Epoch 5/100\n",
      "\u001b[1m2246/2246\u001b[0m \u001b[32m━━━━━━━━━━━━━━━━━━━━\u001b[0m\u001b[37m\u001b[0m \u001b[1m742s\u001b[0m 330ms/step - accuracy: 0.7919 - loss: 0.8008 - val_accuracy: 0.1689 - val_loss: 7.9404\n",
      "Epoch 6/100\n",
      "\u001b[1m2246/2246\u001b[0m \u001b[32m━━━━━━━━━━━━━━━━━━━━\u001b[0m\u001b[37m\u001b[0m \u001b[1m735s\u001b[0m 327ms/step - accuracy: 0.7866 - loss: 0.8103 - val_accuracy: 0.1607 - val_loss: 8.9802\n",
      "Epoch 7/100\n",
      "\u001b[1m2246/2246\u001b[0m \u001b[32m━━━━━━━━━━━━━━━━━━━━\u001b[0m\u001b[37m\u001b[0m \u001b[1m736s\u001b[0m 328ms/step - accuracy: 0.7917 - loss: 0.7903 - val_accuracy: 0.1689 - val_loss: 9.9299\n",
      "Epoch 8/100\n",
      "\u001b[1m2246/2246\u001b[0m \u001b[32m━━━━━━━━━━━━━━━━━━━━\u001b[0m\u001b[37m\u001b[0m \u001b[1m744s\u001b[0m 331ms/step - accuracy: 0.7845 - loss: 0.8246 - val_accuracy: 0.1390 - val_loss: 11.4689\n",
      "Epoch 9/100\n",
      "\u001b[1m2246/2246\u001b[0m \u001b[32m━━━━━━━━━━━━━━━━━━━━\u001b[0m\u001b[37m\u001b[0m \u001b[1m742s\u001b[0m 331ms/step - accuracy: 0.7876 - loss: 0.7757 - val_accuracy: 0.1718 - val_loss: 11.0738\n",
      "Epoch 10/100\n",
      "\u001b[1m2246/2246\u001b[0m \u001b[32m━━━━━━━━━━━━━━━━━━━━\u001b[0m\u001b[37m\u001b[0m \u001b[1m730s\u001b[0m 325ms/step - accuracy: 0.7702 - loss: 0.8317 - val_accuracy: 0.1675 - val_loss: 11.6300\n",
      "Epoch 11/100\n",
      "\u001b[1m2246/2246\u001b[0m \u001b[32m━━━━━━━━━━━━━━━━━━━━\u001b[0m\u001b[37m\u001b[0m \u001b[1m736s\u001b[0m 328ms/step - accuracy: 0.7711 - loss: 0.8134 - val_accuracy: 0.1386 - val_loss: 15.7035\n",
      "Epoch 12/100\n",
      "\u001b[1m2246/2246\u001b[0m \u001b[32m━━━━━━━━━━━━━━━━━━━━\u001b[0m\u001b[37m\u001b[0m \u001b[1m754s\u001b[0m 336ms/step - accuracy: 0.7857 - loss: 0.7995 - val_accuracy: 0.1807 - val_loss: 11.5699\n",
      "Epoch 13/100\n",
      "\u001b[1m2246/2246\u001b[0m \u001b[32m━━━━━━━━━━━━━━━━━━━━\u001b[0m\u001b[37m\u001b[0m \u001b[1m755s\u001b[0m 336ms/step - accuracy: 0.7843 - loss: 0.7994 - val_accuracy: 0.1842 - val_loss: 12.1862\n"
     ]
    }
   ],
   "source": [
    "base_ResNet101 = ResNet101(weights='imagenet', include_top=False, input_shape=(224, 224, 3))\n",
    "model_ResNet101 = create_model(base_ResNet101)\n",
    "early_stopping = EarlyStopping(monitor='val_loss', patience=10, restore_best_weights=True)\n",
    "history_ResNet101 = model_ResNet101.fit(train_ds, epochs=100, validation_data=val_ds, callbacks=[early_stopping])"
   ]
  },
  {
   "cell_type": "code",
   "execution_count": 34,
   "id": "0e33d0b2",
   "metadata": {},
   "outputs": [
    {
     "data": {
      "image/png": "[encoded data removed]",
      "text/plain": [
       "<Figure size 640x480 with 1 Axes>"
      ]
     },
     "metadata": {},
     "output_type": "display_data"
    }
   ],
   "source": [
    "# Plot training and validation loss\n",
    "plt.plot(history_ResNet101.history['loss'], label='Training Loss')\n",
    "plt.plot(history_ResNet101.history['val_loss'], label='Validation Loss')\n",
    "plt.title('Training and Validation Loss Over Epochs (ResNet100)')\n",
    "plt.xlabel('Epoch')\n",
    "plt.ylabel('Loss')\n",
    "plt.legend()\n",
    "plt.show()"
   ]
  },
  {
   "cell_type": "code",
   "execution_count": 35,
   "id": "dbd661f8",
   "metadata": {},
   "outputs": [
    {
     "name": "stdout",
     "output_type": "stream",
     "text": [
      "\u001b[1m94/94\u001b[0m \u001b[32m━━━━━━━━━━━━━━━━━━━━\u001b[0m\u001b[37m\u001b[0m \u001b[1m121s\u001b[0m 1s/step\n"
     ]
    },
    {
     "name": "stderr",
     "output_type": "stream",
     "text": [
      "/opt/anaconda3/lib/python3.12/site-packages/sklearn/metrics/_classification.py:1509: UndefinedMetricWarning: Precision is ill-defined and being set to 0.0 in labels with no predicted samples. Use `zero_division` parameter to control this behavior.\n",
      "  _warn_prf(average, modifier, f\"{metric.capitalize()} is\", len(result))\n"
     ]
    },
    {
     "data": {
      "text/plain": [
       "{'Precision': 0.6579230534237431,\n",
       " 'Recall': 0.7411438758783682,\n",
       " 'F1 Score': 0.6909239199369956,\n",
       " 'AUC': 0.9529533092839039}"
      ]
     },
     "execution_count": 35,
     "metadata": {},
     "output_type": "execute_result"
    }
   ],
   "source": [
    "# Evaluate on test data\n",
    "test_predictions = model_ResNet101.predict(test_images)\n",
    "test_labels_classes = np.argmax(test_labels, axis=1)\n",
    "test_predictions_classes = np.argmax(test_predictions, axis=1)\n",
    "\n",
    "precision = precision_score(test_labels_classes, test_predictions_classes, average='macro')\n",
    "recall = recall_score(test_labels_classes, test_predictions_classes, average='macro')\n",
    "f1 = f1_score(test_labels_classes, test_predictions_classes, average='macro')\n",
    "auc = roc_auc_score(test_labels, test_predictions, multi_class='ovr')\n",
    "\n",
    "results['ResNet100'] = {\n",
    "    \"Precision\": precision,\n",
    "    \"Recall\": recall,\n",
    "    \"F1 Score\": f1,\n",
    "    \"AUC\": auc\n",
    "}\n",
    "results['ResNet100']"
   ]
  },
  {
   "cell_type": "markdown",
   "id": "9eaf67a4",
   "metadata": {},
   "source": [
    "#### EfficientNetB0"
   ]
  },
  {
   "cell_type": "code",
   "execution_count": 36,
   "id": "dda1ce6f",
   "metadata": {},
   "outputs": [
    {
     "name": "stdout",
     "output_type": "stream",
     "text": [
      "Downloading data from https://storage.googleapis.com/keras-applications/efficientnetb0_notop.h5\n",
      "\u001b[1m16705208/16705208\u001b[0m \u001b[32m━━━━━━━━━━━━━━━━━━━━\u001b[0m\u001b[37m\u001b[0m \u001b[1m4s\u001b[0m 0us/step\n",
      "Epoch 1/100\n",
      "\u001b[1m2246/2246\u001b[0m \u001b[32m━━━━━━━━━━━━━━━━━━━━\u001b[0m\u001b[37m\u001b[0m \u001b[1m167s\u001b[0m 73ms/step - accuracy: 0.7209 - loss: 2.0757 - val_accuracy: 0.1700 - val_loss: 5.5593\n",
      "Epoch 2/100\n",
      "\u001b[1m2246/2246\u001b[0m \u001b[32m━━━━━━━━━━━━━━━━━━━━\u001b[0m\u001b[37m\u001b[0m \u001b[1m168s\u001b[0m 75ms/step - accuracy: 0.7644 - loss: 0.9847 - val_accuracy: 0.1693 - val_loss: 5.3999\n",
      "Epoch 3/100\n",
      "\u001b[1m2246/2246\u001b[0m \u001b[32m━━━━━━━━━━━━━━━━━━━━\u001b[0m\u001b[37m\u001b[0m \u001b[1m169s\u001b[0m 75ms/step - accuracy: 0.7732 - loss: 0.9226 - val_accuracy: 0.1632 - val_loss: 6.7495\n",
      "Epoch 4/100\n",
      "\u001b[1m2246/2246\u001b[0m \u001b[32m━━━━━━━━━━━━━━━━━━━━\u001b[0m\u001b[37m\u001b[0m \u001b[1m174s\u001b[0m 77ms/step - accuracy: 0.7563 - loss: 0.9186 - val_accuracy: 0.1725 - val_loss: 9.3868\n",
      "Epoch 5/100\n",
      "\u001b[1m2246/2246\u001b[0m \u001b[32m━━━━━━━━━━━━━━━━━━━━\u001b[0m\u001b[37m\u001b[0m \u001b[1m171s\u001b[0m 76ms/step - accuracy: 0.7785 - loss: 0.8662 - val_accuracy: 0.1721 - val_loss: 7.7117\n",
      "Epoch 6/100\n",
      "\u001b[1m2246/2246\u001b[0m \u001b[32m━━━━━━━━━━━━━━━━━━━━\u001b[0m\u001b[37m\u001b[0m \u001b[1m169s\u001b[0m 75ms/step - accuracy: 0.7834 - loss: 0.8502 - val_accuracy: 0.1689 - val_loss: 9.0915\n",
      "Epoch 7/100\n",
      "\u001b[1m2246/2246\u001b[0m \u001b[32m━━━━━━━━━━━━━━━━━━━━\u001b[0m\u001b[37m\u001b[0m \u001b[1m164s\u001b[0m 73ms/step - accuracy: 0.7658 - loss: 0.8492 - val_accuracy: 0.1689 - val_loss: 9.5634\n",
      "Epoch 8/100\n",
      "\u001b[1m2246/2246\u001b[0m \u001b[32m━━━━━━━━━━━━━━━━━━━━\u001b[0m\u001b[37m\u001b[0m \u001b[1m164s\u001b[0m 73ms/step - accuracy: 0.7814 - loss: 0.8149 - val_accuracy: 0.1565 - val_loss: 10.6727\n",
      "Epoch 9/100\n",
      "\u001b[1m2246/2246\u001b[0m \u001b[32m━━━━━━━━━━━━━━━━━━━━\u001b[0m\u001b[37m\u001b[0m \u001b[1m164s\u001b[0m 73ms/step - accuracy: 0.7688 - loss: 0.8497 - val_accuracy: 0.1511 - val_loss: 10.1066\n",
      "Epoch 10/100\n",
      "\u001b[1m2246/2246\u001b[0m \u001b[32m━━━━━━━━━━━━━━━━━━━━\u001b[0m\u001b[37m\u001b[0m \u001b[1m166s\u001b[0m 74ms/step - accuracy: 0.7796 - loss: 0.8284 - val_accuracy: 0.1622 - val_loss: 12.2631\n",
      "Epoch 11/100\n",
      "\u001b[1m2246/2246\u001b[0m \u001b[32m━━━━━━━━━━━━━━━━━━━━\u001b[0m\u001b[37m\u001b[0m \u001b[1m164s\u001b[0m 73ms/step - accuracy: 0.7736 - loss: 0.8362 - val_accuracy: 0.1832 - val_loss: 10.0559\n",
      "Epoch 12/100\n",
      "\u001b[1m2246/2246\u001b[0m \u001b[32m━━━━━━━━━━━━━━━━━━━━\u001b[0m\u001b[37m\u001b[0m \u001b[1m168s\u001b[0m 75ms/step - accuracy: 0.7631 - loss: 0.8530 - val_accuracy: 0.1696 - val_loss: 12.3844\n"
     ]
    }
   ],
   "source": [
    "base_EfficientNetB0 = EfficientNetB0(weights='imagenet', include_top=False, input_shape=(224, 224, 3))\n",
    "model_EfficientNetB0 = create_model(base_EfficientNetB0)\n",
    "early_stopping = EarlyStopping(monitor='val_loss', patience=10, restore_best_weights=True)\n",
    "history_EfficientNetB0 = model_EfficientNetB0.fit(train_ds, epochs=100, validation_data=val_ds, callbacks=[early_stopping])"
   ]
  },
  {
   "cell_type": "code",
   "execution_count": 37,
   "id": "a2403dbf",
   "metadata": {},
   "outputs": [
    {
     "data": {
      "image/png": "[encoded data removed]",
      "text/plain": [
       "<Figure size 640x480 with 1 Axes>"
      ]
     },
     "metadata": {},
     "output_type": "display_data"
    }
   ],
   "source": [
    "# Plot training and validation loss\n",
    "plt.plot(history_EfficientNetB0.history['loss'], label='Training Loss')\n",
    "plt.plot(history_EfficientNetB0.history['val_loss'], label='Validation Loss')\n",
    "plt.title('Training and Validation Loss Over Epochs (EfficientNetB0)')\n",
    "plt.xlabel('Epoch')\n",
    "plt.ylabel('Loss')\n",
    "plt.legend()\n",
    "plt.show()"
   ]
  },
  {
   "cell_type": "code",
   "execution_count": 38,
   "id": "0a9c8ff4",
   "metadata": {},
   "outputs": [
    {
     "name": "stdout",
     "output_type": "stream",
     "text": [
      "\u001b[1m94/94\u001b[0m \u001b[32m━━━━━━━━━━━━━━━━━━━━\u001b[0m\u001b[37m\u001b[0m \u001b[1m29s\u001b[0m 294ms/step\n"
     ]
    },
    {
     "name": "stderr",
     "output_type": "stream",
     "text": [
      "/opt/anaconda3/lib/python3.12/site-packages/sklearn/metrics/_classification.py:1509: UndefinedMetricWarning: Precision is ill-defined and being set to 0.0 in labels with no predicted samples. Use `zero_division` parameter to control this behavior.\n",
      "  _warn_prf(average, modifier, f\"{metric.capitalize()} is\", len(result))\n"
     ]
    },
    {
     "data": {
      "text/plain": [
       "{'Precision': 0.6327761624215159,\n",
       " 'Recall': 0.7271809491511818,\n",
       " 'F1 Score': 0.6721046689983522,\n",
       " 'AUC': 0.9732123281054789}"
      ]
     },
     "execution_count": 38,
     "metadata": {},
     "output_type": "execute_result"
    }
   ],
   "source": [
    "# Evaluate on test data\n",
    "test_predictions = model_EfficientNetB0.predict(test_images)\n",
    "test_labels_classes = np.argmax(test_labels, axis=1)\n",
    "test_predictions_classes = np.argmax(test_predictions, axis=1)\n",
    "\n",
    "precision = precision_score(test_labels_classes, test_predictions_classes, average='macro')\n",
    "recall = recall_score(test_labels_classes, test_predictions_classes, average='macro')\n",
    "f1 = f1_score(test_labels_classes, test_predictions_classes, average='macro')\n",
    "auc = roc_auc_score(test_labels, test_predictions, multi_class='ovr')\n",
    "\n",
    "results['EfficientNetB0'] = {\n",
    "    \"Precision\": precision,\n",
    "    \"Recall\": recall,\n",
    "    \"F1 Score\": f1,\n",
    "    \"AUC\": auc\n",
    "}\n",
    "results['EfficientNetB0']"
   ]
  },
  {
   "cell_type": "markdown",
   "id": "bcf72003",
   "metadata": {},
   "source": [
    "#### VGG16"
   ]
  },
  {
   "cell_type": "code",
   "execution_count": 39,
   "id": "388d0ca6",
   "metadata": {},
   "outputs": [],
   "source": [
    "train_images_vgg16 = preprocess_input(train_images.copy())\n",
    "test_images_vgg16 = preprocess_input(test_images.copy())"
   ]
  },
  {
   "cell_type": "code",
   "execution_count": 40,
   "id": "08c9281f",
   "metadata": {},
   "outputs": [],
   "source": [
    "## Data augmentation\n",
    "datagen = ImageDataGenerator(\n",
    "    rotation_range=20,\n",
    "    width_shift_range=0.2,\n",
    "    height_shift_range=0.2,\n",
    "    horizontal_flip=True,\n",
    "    validation_split= 0.2\n",
    "    )\n",
    "\n",
    "datagen.fit(train_images_vgg16)\n",
    "train_ds = datagen.flow(train_images_vgg16, train_labels, batch_size=5, subset='training')\n",
    "val_ds = datagen.flow(train_images_vgg16, train_labels, batch_size=5, subset='validation')"
   ]
  },
  {
   "cell_type": "code",
   "execution_count": 41,
   "id": "d3ecab7b",
   "metadata": {},
   "outputs": [
    {
     "name": "stdout",
     "output_type": "stream",
     "text": [
      "Downloading data from https://storage.googleapis.com/tensorflow/keras-applications/vgg16/vgg16_weights_tf_dim_ordering_tf_kernels_notop.h5\n",
      "\u001b[1m58889256/58889256\u001b[0m \u001b[32m━━━━━━━━━━━━━━━━━━━━\u001b[0m\u001b[37m\u001b[0m \u001b[1m161s\u001b[0m 3us/step\n",
      "Epoch 1/100\n"
     ]
    },
    {
     "name": "stderr",
     "output_type": "stream",
     "text": [
      "/opt/anaconda3/lib/python3.12/site-packages/keras/src/trainers/data_adapters/py_dataset_adapter.py:121: UserWarning: Your `PyDataset` class should call `super().__init__(**kwargs)` in its constructor. `**kwargs` can include `workers`, `use_multiprocessing`, `max_queue_size`. Do not pass these arguments to `fit()`, as they will be ignored.\n",
      "  self._warn_if_super_not_called()\n"
     ]
    },
    {
     "name": "stdout",
     "output_type": "stream",
     "text": [
      "\u001b[1m2246/2246\u001b[0m \u001b[32m━━━━━━━━━━━━━━━━━━━━\u001b[0m\u001b[37m\u001b[0m \u001b[1m2784s\u001b[0m 1s/step - accuracy: 0.6909 - loss: 1.9216 - val_accuracy: 0.1582 - val_loss: 4.8942\n",
      "Epoch 2/100\n",
      "\u001b[1m2246/2246\u001b[0m \u001b[32m━━━━━━━━━━━━━━━━━━━━\u001b[0m\u001b[37m\u001b[0m \u001b[1m1082s\u001b[0m 482ms/step - accuracy: 0.7684 - loss: 0.9086 - val_accuracy: 0.1739 - val_loss: 5.2114\n",
      "Epoch 3/100\n",
      "\u001b[1m2246/2246\u001b[0m \u001b[32m━━━━━━━━━━━━━━━━━━━━\u001b[0m\u001b[37m\u001b[0m \u001b[1m1080s\u001b[0m 481ms/step - accuracy: 0.7684 - loss: 0.8507 - val_accuracy: 0.1725 - val_loss: 6.9869\n",
      "Epoch 4/100\n",
      "\u001b[1m2246/2246\u001b[0m \u001b[32m━━━━━━━━━━━━━━━━━━━━\u001b[0m\u001b[37m\u001b[0m \u001b[1m1079s\u001b[0m 480ms/step - accuracy: 0.7721 - loss: 0.8050 - val_accuracy: 0.1771 - val_loss: 8.4305\n",
      "Epoch 5/100\n",
      "\u001b[1m2246/2246\u001b[0m \u001b[32m━━━━━━━━━━━━━━━━━━━━\u001b[0m\u001b[37m\u001b[0m \u001b[1m1082s\u001b[0m 482ms/step - accuracy: 0.7807 - loss: 0.7915 - val_accuracy: 0.1711 - val_loss: 8.7868\n",
      "Epoch 6/100\n",
      "\u001b[1m2246/2246\u001b[0m \u001b[32m━━━━━━━━━━━━━━━━━━━━\u001b[0m\u001b[37m\u001b[0m \u001b[1m1084s\u001b[0m 483ms/step - accuracy: 0.7663 - loss: 0.8169 - val_accuracy: 0.1668 - val_loss: 8.8751\n",
      "Epoch 7/100\n",
      "\u001b[1m2246/2246\u001b[0m \u001b[32m━━━━━━━━━━━━━━━━━━━━\u001b[0m\u001b[37m\u001b[0m \u001b[1m1087s\u001b[0m 484ms/step - accuracy: 0.7795 - loss: 0.7670 - val_accuracy: 0.1707 - val_loss: 9.5341\n",
      "Epoch 8/100\n",
      "\u001b[1m2246/2246\u001b[0m \u001b[32m━━━━━━━━━━━━━━━━━━━━\u001b[0m\u001b[37m\u001b[0m \u001b[1m1087s\u001b[0m 484ms/step - accuracy: 0.7773 - loss: 0.7599 - val_accuracy: 0.1803 - val_loss: 6.6830\n",
      "Epoch 9/100\n",
      "\u001b[1m2246/2246\u001b[0m \u001b[32m━━━━━━━━━━━━━━━━━━━━\u001b[0m\u001b[37m\u001b[0m \u001b[1m1088s\u001b[0m 484ms/step - accuracy: 0.7753 - loss: 0.7733 - val_accuracy: 0.1814 - val_loss: 11.0606\n",
      "Epoch 10/100\n",
      "\u001b[1m2246/2246\u001b[0m \u001b[32m━━━━━━━━━━━━━━━━━━━━\u001b[0m\u001b[37m\u001b[0m \u001b[1m3762s\u001b[0m 2s/step - accuracy: 0.7704 - loss: 0.7514 - val_accuracy: 0.1807 - val_loss: 11.6215\n",
      "Epoch 11/100\n",
      "\u001b[1m2246/2246\u001b[0m \u001b[32m━━━━━━━━━━━━━━━━━━━━\u001b[0m\u001b[37m\u001b[0m \u001b[1m1125s\u001b[0m 501ms/step - accuracy: 0.7840 - loss: 0.7515 - val_accuracy: 0.1636 - val_loss: 12.2142\n"
     ]
    }
   ],
   "source": [
    "base_VGG16 = VGG16(weights='imagenet', include_top=False, input_shape=(224, 224, 3))\n",
    "model_VGG16 = create_model(base_VGG16)\n",
    "early_stopping = EarlyStopping(monitor='val_loss', patience=10, restore_best_weights=True)\n",
    "history_VGG16 = model_VGG16.fit(train_ds, epochs=100, validation_data=val_ds, callbacks=[early_stopping])"
   ]
  },
  {
   "cell_type": "code",
   "execution_count": 42,
   "id": "202a24c0",
   "metadata": {},
   "outputs": [
    {
     "data": {
      "image/png": "[encoded data removed]",
      "text/plain": [
       "<Figure size 640x480 with 1 Axes>"
      ]
     },
     "metadata": {},
     "output_type": "display_data"
    }
   ],
   "source": [
    "# Plot training and validation loss\n",
    "plt.plot(history_VGG16.history['loss'], label='Training Loss')\n",
    "plt.plot(history_VGG16.history['val_loss'], label='Validation Loss')\n",
    "plt.title('Training and Validation Loss Over Epochs (base_VGG16)')\n",
    "plt.xlabel('Epoch')\n",
    "plt.ylabel('Loss')\n",
    "plt.legend()\n",
    "plt.show()"
   ]
  },
  {
   "cell_type": "code",
   "execution_count": 43,
   "id": "13f90620",
   "metadata": {
    "scrolled": true
   },
   "outputs": [
    {
     "name": "stdout",
     "output_type": "stream",
     "text": [
      "\u001b[1m94/94\u001b[0m \u001b[32m━━━━━━━━━━━━━━━━━━━━\u001b[0m\u001b[37m\u001b[0m \u001b[1m246s\u001b[0m 3s/step\n"
     ]
    },
    {
     "data": {
      "text/plain": [
       "{'Precision': 0.6579317369719003,\n",
       " 'Recall': 0.6883245065401816,\n",
       " 'F1 Score': 0.6520531288751528,\n",
       " 'AUC': 0.8584952229625794}"
      ]
     },
     "execution_count": 43,
     "metadata": {},
     "output_type": "execute_result"
    }
   ],
   "source": [
    "# Evaluate on test data\n",
    "test_predictions = model_VGG16.predict(test_images_vgg16)\n",
    "test_labels_classes = np.argmax(test_labels, axis=1)\n",
    "test_predictions_classes = np.argmax(test_predictions, axis=1)\n",
    "\n",
    "precision = precision_score(test_labels_classes, test_predictions_classes, average='macro')\n",
    "recall = recall_score(test_labels_classes, test_predictions_classes, average='macro')\n",
    "f1 = f1_score(test_labels_classes, test_predictions_classes, average='macro')\n",
    "auc = roc_auc_score(test_labels, test_predictions, multi_class='ovr')\n",
    "\n",
    "results['base_VGG16'] = {\n",
    "    \"Precision\": precision,\n",
    "    \"Recall\": recall,\n",
    "    \"F1 Score\": f1,\n",
    "    \"AUC\": auc\n",
    "}\n",
    "results['base_VGG16']"
   ]
  },
  {
   "cell_type": "markdown",
   "id": "34711618",
   "metadata": {},
   "source": [
    "#### Overall Results"
   ]
  },
  {
   "cell_type": "code",
   "execution_count": 44,
   "id": "63616a0d",
   "metadata": {},
   "outputs": [
    {
     "name": "stdout",
     "output_type": "stream",
     "text": [
      "\n",
      "Results for ResNet50:\n",
      "Precision: 0.6653\n",
      "Recall: 0.7365\n",
      "F1 Score: 0.6892\n",
      "AUC: 0.9637\n",
      "\n",
      "Results for ResNet100:\n",
      "Precision: 0.6579\n",
      "Recall: 0.7411\n",
      "F1 Score: 0.6909\n",
      "AUC: 0.9530\n",
      "\n",
      "Results for EfficientNetB0:\n",
      "Precision: 0.6328\n",
      "Recall: 0.7272\n",
      "F1 Score: 0.6721\n",
      "AUC: 0.9732\n",
      "\n",
      "Results for base_VGG16:\n",
      "Precision: 0.6579\n",
      "Recall: 0.6883\n",
      "F1 Score: 0.6521\n",
      "AUC: 0.8585\n"
     ]
    }
   ],
   "source": [
    "# Print results for all models\n",
    "for model_name, metrics in results.items():\n",
    "    print(f\"\\nResults for {model_name}:\")\n",
    "    for metric_name, value in metrics.items():\n",
    "        print(f\"{metric_name}: {value:.4f}\")"
   ]
  },
  {
   "cell_type": "markdown",
   "id": "3d52b0c2",
   "metadata": {},
   "source": [
    "Among the four models, ResNet100 performs best overall, with the highest F1 Score (0.6909) and Recall (0.7411), balancing Precision and Recall effectively. ResNet50 is a close second, with a slightly higher AUC (0.9637). EfficientNetB0 achieves the highest AUC (0.9732) but lags in F1 Score (0.6721). Base_VGG16 performs the weakest, with the lowest AUC (0.8585) and F1 Score (0.6521). Overall, ResNet100 is the top choice for balanced performance."
   ]
  },
  {
   "cell_type": "code",
   "execution_count": null,
   "id": "98a4abfc",
   "metadata": {},
   "outputs": [],
   "source": []
  }
 ],
 "metadata": {
  "kernelspec": {
   "display_name": "Python 3.12 (base)",
   "language": "python",
   "name": "base"
  },
  "language_info": {
   "codemirror_mode": {
    "name": "ipython",
    "version": 3
   },
   "file_extension": ".py",
   "mimetype": "text/x-python",
   "name": "python",
   "nbconvert_exporter": "python",
   "pygments_lexer": "ipython3",
   "version": "3.12.2"
  }
 },
 "nbformat": 4,
 "nbformat_minor": 5
}
